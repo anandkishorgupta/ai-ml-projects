{
  "nbformat": 4,
  "nbformat_minor": 0,
  "metadata": {
    "colab": {
      "provenance": []
    },
    "kernelspec": {
      "name": "python3",
      "display_name": "Python 3"
    },
    "language_info": {
      "name": "python"
    }
  },
  "cells": [
    {
      "cell_type": "code",
      "execution_count": null,
      "metadata": {
        "id": "NWyzSHIm4bSZ"
      },
      "outputs": [],
      "source": [
        "import torch\n",
        "import torch.nn as nn\n",
        "import numpy as np\n",
        "import pandas as pd\n",
        "import matplotlib.pyplot as plt"
      ]
    },
    {
      "cell_type": "code",
      "source": [
        "data=pd.read_csv('/content/Regression_Data.csv')"
      ],
      "metadata": {
        "id": "LjN2EHKg5wEm"
      },
      "execution_count": null,
      "outputs": []
    },
    {
      "cell_type": "code",
      "source": [
        "data.head()"
      ],
      "metadata": {
        "colab": {
          "base_uri": "https://localhost:8080/",
          "height": 226
        },
        "id": "PaMVKhsv5wBp",
        "outputId": "e7b5d1da-146b-40e5-ee97-022e65b97af4"
      },
      "execution_count": null,
      "outputs": [
        {
          "output_type": "execute_result",
          "data": {
            "text/plain": [
              "   Ind_Data  Dependent_Data\n",
              "0       1.1           39343\n",
              "1       1.3           46205\n",
              "2       1.5           37731\n",
              "3       2.0           43525\n",
              "4       2.2           39891"
            ],
            "text/html": [
              "\n",
              "  <div id=\"df-cdf8c05b-00bc-479d-9ff5-15531102123e\" class=\"colab-df-container\">\n",
              "    <div>\n",
              "<style scoped>\n",
              "    .dataframe tbody tr th:only-of-type {\n",
              "        vertical-align: middle;\n",
              "    }\n",
              "\n",
              "    .dataframe tbody tr th {\n",
              "        vertical-align: top;\n",
              "    }\n",
              "\n",
              "    .dataframe thead th {\n",
              "        text-align: right;\n",
              "    }\n",
              "</style>\n",
              "<table border=\"1\" class=\"dataframe\">\n",
              "  <thead>\n",
              "    <tr style=\"text-align: right;\">\n",
              "      <th></th>\n",
              "      <th>Ind_Data</th>\n",
              "      <th>Dependent_Data</th>\n",
              "    </tr>\n",
              "  </thead>\n",
              "  <tbody>\n",
              "    <tr>\n",
              "      <th>0</th>\n",
              "      <td>1.1</td>\n",
              "      <td>39343</td>\n",
              "    </tr>\n",
              "    <tr>\n",
              "      <th>1</th>\n",
              "      <td>1.3</td>\n",
              "      <td>46205</td>\n",
              "    </tr>\n",
              "    <tr>\n",
              "      <th>2</th>\n",
              "      <td>1.5</td>\n",
              "      <td>37731</td>\n",
              "    </tr>\n",
              "    <tr>\n",
              "      <th>3</th>\n",
              "      <td>2.0</td>\n",
              "      <td>43525</td>\n",
              "    </tr>\n",
              "    <tr>\n",
              "      <th>4</th>\n",
              "      <td>2.2</td>\n",
              "      <td>39891</td>\n",
              "    </tr>\n",
              "  </tbody>\n",
              "</table>\n",
              "</div>\n",
              "    <div class=\"colab-df-buttons\">\n",
              "\n",
              "  <div class=\"colab-df-container\">\n",
              "    <button class=\"colab-df-convert\" onclick=\"convertToInteractive('df-cdf8c05b-00bc-479d-9ff5-15531102123e')\"\n",
              "            title=\"Convert this dataframe to an interactive table.\"\n",
              "            style=\"display:none;\">\n",
              "\n",
              "  <svg xmlns=\"http://www.w3.org/2000/svg\" height=\"24px\" viewBox=\"0 -960 960 960\">\n",
              "    <path d=\"M120-120v-720h720v720H120Zm60-500h600v-160H180v160Zm220 220h160v-160H400v160Zm0 220h160v-160H400v160ZM180-400h160v-160H180v160Zm440 0h160v-160H620v160ZM180-180h160v-160H180v160Zm440 0h160v-160H620v160Z\"/>\n",
              "  </svg>\n",
              "    </button>\n",
              "\n",
              "  <style>\n",
              "    .colab-df-container {\n",
              "      display:flex;\n",
              "      gap: 12px;\n",
              "    }\n",
              "\n",
              "    .colab-df-convert {\n",
              "      background-color: #E8F0FE;\n",
              "      border: none;\n",
              "      border-radius: 50%;\n",
              "      cursor: pointer;\n",
              "      display: none;\n",
              "      fill: #1967D2;\n",
              "      height: 32px;\n",
              "      padding: 0 0 0 0;\n",
              "      width: 32px;\n",
              "    }\n",
              "\n",
              "    .colab-df-convert:hover {\n",
              "      background-color: #E2EBFA;\n",
              "      box-shadow: 0px 1px 2px rgba(60, 64, 67, 0.3), 0px 1px 3px 1px rgba(60, 64, 67, 0.15);\n",
              "      fill: #174EA6;\n",
              "    }\n",
              "\n",
              "    .colab-df-buttons div {\n",
              "      margin-bottom: 4px;\n",
              "    }\n",
              "\n",
              "    [theme=dark] .colab-df-convert {\n",
              "      background-color: #3B4455;\n",
              "      fill: #D2E3FC;\n",
              "    }\n",
              "\n",
              "    [theme=dark] .colab-df-convert:hover {\n",
              "      background-color: #434B5C;\n",
              "      box-shadow: 0px 1px 3px 1px rgba(0, 0, 0, 0.15);\n",
              "      filter: drop-shadow(0px 1px 2px rgba(0, 0, 0, 0.3));\n",
              "      fill: #FFFFFF;\n",
              "    }\n",
              "  </style>\n",
              "\n",
              "    <script>\n",
              "      const buttonEl =\n",
              "        document.querySelector('#df-cdf8c05b-00bc-479d-9ff5-15531102123e button.colab-df-convert');\n",
              "      buttonEl.style.display =\n",
              "        google.colab.kernel.accessAllowed ? 'block' : 'none';\n",
              "\n",
              "      async function convertToInteractive(key) {\n",
              "        const element = document.querySelector('#df-cdf8c05b-00bc-479d-9ff5-15531102123e');\n",
              "        const dataTable =\n",
              "          await google.colab.kernel.invokeFunction('convertToInteractive',\n",
              "                                                    [key], {});\n",
              "        if (!dataTable) return;\n",
              "\n",
              "        const docLinkHtml = 'Like what you see? Visit the ' +\n",
              "          '<a target=\"_blank\" href=https://colab.research.google.com/notebooks/data_table.ipynb>data table notebook</a>'\n",
              "          + ' to learn more about interactive tables.';\n",
              "        element.innerHTML = '';\n",
              "        dataTable['output_type'] = 'display_data';\n",
              "        await google.colab.output.renderOutput(dataTable, element);\n",
              "        const docLink = document.createElement('div');\n",
              "        docLink.innerHTML = docLinkHtml;\n",
              "        element.appendChild(docLink);\n",
              "      }\n",
              "    </script>\n",
              "  </div>\n",
              "\n",
              "\n",
              "<div id=\"df-42cab7cd-8a80-4118-87e4-37c6086d7ff2\">\n",
              "  <button class=\"colab-df-quickchart\" onclick=\"quickchart('df-42cab7cd-8a80-4118-87e4-37c6086d7ff2')\"\n",
              "            title=\"Suggest charts\"\n",
              "            style=\"display:none;\">\n",
              "\n",
              "<svg xmlns=\"http://www.w3.org/2000/svg\" height=\"24px\"viewBox=\"0 0 24 24\"\n",
              "     width=\"24px\">\n",
              "    <g>\n",
              "        <path d=\"M19 3H5c-1.1 0-2 .9-2 2v14c0 1.1.9 2 2 2h14c1.1 0 2-.9 2-2V5c0-1.1-.9-2-2-2zM9 17H7v-7h2v7zm4 0h-2V7h2v10zm4 0h-2v-4h2v4z\"/>\n",
              "    </g>\n",
              "</svg>\n",
              "  </button>\n",
              "\n",
              "<style>\n",
              "  .colab-df-quickchart {\n",
              "      --bg-color: #E8F0FE;\n",
              "      --fill-color: #1967D2;\n",
              "      --hover-bg-color: #E2EBFA;\n",
              "      --hover-fill-color: #174EA6;\n",
              "      --disabled-fill-color: #AAA;\n",
              "      --disabled-bg-color: #DDD;\n",
              "  }\n",
              "\n",
              "  [theme=dark] .colab-df-quickchart {\n",
              "      --bg-color: #3B4455;\n",
              "      --fill-color: #D2E3FC;\n",
              "      --hover-bg-color: #434B5C;\n",
              "      --hover-fill-color: #FFFFFF;\n",
              "      --disabled-bg-color: #3B4455;\n",
              "      --disabled-fill-color: #666;\n",
              "  }\n",
              "\n",
              "  .colab-df-quickchart {\n",
              "    background-color: var(--bg-color);\n",
              "    border: none;\n",
              "    border-radius: 50%;\n",
              "    cursor: pointer;\n",
              "    display: none;\n",
              "    fill: var(--fill-color);\n",
              "    height: 32px;\n",
              "    padding: 0;\n",
              "    width: 32px;\n",
              "  }\n",
              "\n",
              "  .colab-df-quickchart:hover {\n",
              "    background-color: var(--hover-bg-color);\n",
              "    box-shadow: 0 1px 2px rgba(60, 64, 67, 0.3), 0 1px 3px 1px rgba(60, 64, 67, 0.15);\n",
              "    fill: var(--button-hover-fill-color);\n",
              "  }\n",
              "\n",
              "  .colab-df-quickchart-complete:disabled,\n",
              "  .colab-df-quickchart-complete:disabled:hover {\n",
              "    background-color: var(--disabled-bg-color);\n",
              "    fill: var(--disabled-fill-color);\n",
              "    box-shadow: none;\n",
              "  }\n",
              "\n",
              "  .colab-df-spinner {\n",
              "    border: 2px solid var(--fill-color);\n",
              "    border-color: transparent;\n",
              "    border-bottom-color: var(--fill-color);\n",
              "    animation:\n",
              "      spin 1s steps(1) infinite;\n",
              "  }\n",
              "\n",
              "  @keyframes spin {\n",
              "    0% {\n",
              "      border-color: transparent;\n",
              "      border-bottom-color: var(--fill-color);\n",
              "      border-left-color: var(--fill-color);\n",
              "    }\n",
              "    20% {\n",
              "      border-color: transparent;\n",
              "      border-left-color: var(--fill-color);\n",
              "      border-top-color: var(--fill-color);\n",
              "    }\n",
              "    30% {\n",
              "      border-color: transparent;\n",
              "      border-left-color: var(--fill-color);\n",
              "      border-top-color: var(--fill-color);\n",
              "      border-right-color: var(--fill-color);\n",
              "    }\n",
              "    40% {\n",
              "      border-color: transparent;\n",
              "      border-right-color: var(--fill-color);\n",
              "      border-top-color: var(--fill-color);\n",
              "    }\n",
              "    60% {\n",
              "      border-color: transparent;\n",
              "      border-right-color: var(--fill-color);\n",
              "    }\n",
              "    80% {\n",
              "      border-color: transparent;\n",
              "      border-right-color: var(--fill-color);\n",
              "      border-bottom-color: var(--fill-color);\n",
              "    }\n",
              "    90% {\n",
              "      border-color: transparent;\n",
              "      border-bottom-color: var(--fill-color);\n",
              "    }\n",
              "  }\n",
              "</style>\n",
              "\n",
              "  <script>\n",
              "    async function quickchart(key) {\n",
              "      const quickchartButtonEl =\n",
              "        document.querySelector('#' + key + ' button');\n",
              "      quickchartButtonEl.disabled = true;  // To prevent multiple clicks.\n",
              "      quickchartButtonEl.classList.add('colab-df-spinner');\n",
              "      try {\n",
              "        const charts = await google.colab.kernel.invokeFunction(\n",
              "            'suggestCharts', [key], {});\n",
              "      } catch (error) {\n",
              "        console.error('Error during call to suggestCharts:', error);\n",
              "      }\n",
              "      quickchartButtonEl.classList.remove('colab-df-spinner');\n",
              "      quickchartButtonEl.classList.add('colab-df-quickchart-complete');\n",
              "    }\n",
              "    (() => {\n",
              "      let quickchartButtonEl =\n",
              "        document.querySelector('#df-42cab7cd-8a80-4118-87e4-37c6086d7ff2 button');\n",
              "      quickchartButtonEl.style.display =\n",
              "        google.colab.kernel.accessAllowed ? 'block' : 'none';\n",
              "    })();\n",
              "  </script>\n",
              "</div>\n",
              "\n",
              "    </div>\n",
              "  </div>\n"
            ],
            "application/vnd.google.colaboratory.intrinsic+json": {
              "type": "dataframe",
              "variable_name": "data",
              "summary": "{\n  \"name\": \"data\",\n  \"rows\": 30,\n  \"fields\": [\n    {\n      \"column\": \"Ind_Data\",\n      \"properties\": {\n        \"dtype\": \"number\",\n        \"std\": 2.8378881576627184,\n        \"min\": 1.1,\n        \"max\": 10.5,\n        \"num_unique_values\": 28,\n        \"samples\": [\n          3.9,\n          9.6,\n          3.7\n        ],\n        \"semantic_type\": \"\",\n        \"description\": \"\"\n      }\n    },\n    {\n      \"column\": \"Dependent_Data\",\n      \"properties\": {\n        \"dtype\": \"number\",\n        \"std\": 27414,\n        \"min\": 37731,\n        \"max\": 122391,\n        \"num_unique_values\": 30,\n        \"samples\": [\n          112635,\n          67938,\n          113812\n        ],\n        \"semantic_type\": \"\",\n        \"description\": \"\"\n      }\n    }\n  ]\n}"
            }
          },
          "metadata": {},
          "execution_count": 3
        }
      ]
    },
    {
      "cell_type": "code",
      "source": [
        "X=data['Ind_Data'].values.reshape(-1,1)\n",
        "X"
      ],
      "metadata": {
        "colab": {
          "base_uri": "https://localhost:8080/"
        },
        "id": "9zUMdNB55v_C",
        "outputId": "b3f5d7ec-e2c5-4730-e5cd-a3b65247defd"
      },
      "execution_count": null,
      "outputs": [
        {
          "output_type": "execute_result",
          "data": {
            "text/plain": [
              "array([[ 1.1],\n",
              "       [ 1.3],\n",
              "       [ 1.5],\n",
              "       [ 2. ],\n",
              "       [ 2.2],\n",
              "       [ 2.9],\n",
              "       [ 3. ],\n",
              "       [ 3.2],\n",
              "       [ 3.2],\n",
              "       [ 3.7],\n",
              "       [ 3.9],\n",
              "       [ 4. ],\n",
              "       [ 4. ],\n",
              "       [ 4.1],\n",
              "       [ 4.5],\n",
              "       [ 4.9],\n",
              "       [ 5.1],\n",
              "       [ 5.3],\n",
              "       [ 5.9],\n",
              "       [ 6. ],\n",
              "       [ 6.8],\n",
              "       [ 7.1],\n",
              "       [ 7.9],\n",
              "       [ 8.2],\n",
              "       [ 8.7],\n",
              "       [ 9. ],\n",
              "       [ 9.5],\n",
              "       [ 9.6],\n",
              "       [10.3],\n",
              "       [10.5]])"
            ]
          },
          "metadata": {},
          "execution_count": 4
        }
      ]
    },
    {
      "cell_type": "code",
      "source": [
        "y=data['Dependent_Data'].values.reshape(-1,1)\n",
        "y"
      ],
      "metadata": {
        "colab": {
          "base_uri": "https://localhost:8080/"
        },
        "id": "tEw7jXVa5v8b",
        "outputId": "f90e8bcf-eff4-4d86-fb78-5a22045d9aae"
      },
      "execution_count": null,
      "outputs": [
        {
          "output_type": "execute_result",
          "data": {
            "text/plain": [
              "array([[ 39343],\n",
              "       [ 46205],\n",
              "       [ 37731],\n",
              "       [ 43525],\n",
              "       [ 39891],\n",
              "       [ 56642],\n",
              "       [ 60150],\n",
              "       [ 54445],\n",
              "       [ 64445],\n",
              "       [ 57189],\n",
              "       [ 63218],\n",
              "       [ 55794],\n",
              "       [ 56957],\n",
              "       [ 57081],\n",
              "       [ 61111],\n",
              "       [ 67938],\n",
              "       [ 66029],\n",
              "       [ 83088],\n",
              "       [ 81363],\n",
              "       [ 93940],\n",
              "       [ 91738],\n",
              "       [ 98273],\n",
              "       [101302],\n",
              "       [113812],\n",
              "       [109431],\n",
              "       [105582],\n",
              "       [116969],\n",
              "       [112635],\n",
              "       [122391],\n",
              "       [121872]])"
            ]
          },
          "metadata": {},
          "execution_count": 5
        }
      ]
    },
    {
      "cell_type": "markdown",
      "source": [
        "### Visualize the data"
      ],
      "metadata": {
        "id": "edI7fxQh63g-"
      }
    },
    {
      "cell_type": "code",
      "source": [
        "plt.figure(figsize=(8,5))\n",
        "plt.scatter(X,y)\n",
        "plt.xlabel('Independent Data')\n",
        "plt.ylabel('Dependent Data')\n",
        "plt.show()"
      ],
      "metadata": {
        "colab": {
          "base_uri": "https://localhost:8080/",
          "height": 485
        },
        "id": "U3o0KH355v52",
        "outputId": "97e05e88-a285-469d-ce93-78eacb94c074"
      },
      "execution_count": null,
      "outputs": [
        {
          "output_type": "display_data",
          "data": {
            "text/plain": [
              "<Figure size 800x500 with 1 Axes>"
            ],
            "image/png": "[encoded data removed]"
          },
          "metadata": {}
        }
      ]
    },
    {
      "cell_type": "markdown",
      "source": [
        "### Transforming to torch tensor"
      ],
      "metadata": {
        "id": "LUyUSvBY7LgQ"
      }
    },
    {
      "cell_type": "code",
      "source": [
        "X=torch.tensor(X,dtype=torch.float32)\n",
        "y=torch.tensor(y,dtype=torch.float32)\n",
        "X"
      ],
      "metadata": {
        "colab": {
          "base_uri": "https://localhost:8080/"
        },
        "id": "kwKjdF6F5v3V",
        "outputId": "dc1a082a-c1bf-4d9e-9ab6-cd8daf99fe66"
      },
      "execution_count": null,
      "outputs": [
        {
          "output_type": "execute_result",
          "data": {
            "text/plain": [
              "tensor([[ 1.1000],\n",
              "        [ 1.3000],\n",
              "        [ 1.5000],\n",
              "        [ 2.0000],\n",
              "        [ 2.2000],\n",
              "        [ 2.9000],\n",
              "        [ 3.0000],\n",
              "        [ 3.2000],\n",
              "        [ 3.2000],\n",
              "        [ 3.7000],\n",
              "        [ 3.9000],\n",
              "        [ 4.0000],\n",
              "        [ 4.0000],\n",
              "        [ 4.1000],\n",
              "        [ 4.5000],\n",
              "        [ 4.9000],\n",
              "        [ 5.1000],\n",
              "        [ 5.3000],\n",
              "        [ 5.9000],\n",
              "        [ 6.0000],\n",
              "        [ 6.8000],\n",
              "        [ 7.1000],\n",
              "        [ 7.9000],\n",
              "        [ 8.2000],\n",
              "        [ 8.7000],\n",
              "        [ 9.0000],\n",
              "        [ 9.5000],\n",
              "        [ 9.6000],\n",
              "        [10.3000],\n",
              "        [10.5000]])"
            ]
          },
          "metadata": {},
          "execution_count": 7
        }
      ]
    },
    {
      "cell_type": "markdown",
      "source": [
        "### Create neural Network"
      ],
      "metadata": {
        "id": "rygqja457tXJ"
      }
    },
    {
      "cell_type": "code",
      "source": [
        "model=nn.Sequential(nn.Linear(1,1))\n",
        "model"
      ],
      "metadata": {
        "colab": {
          "base_uri": "https://localhost:8080/"
        },
        "id": "rV7iwiEV5v0-",
        "outputId": "19c846ca-00e1-4f5f-f0ae-d09e7efb403f"
      },
      "execution_count": null,
      "outputs": [
        {
          "output_type": "execute_result",
          "data": {
            "text/plain": [
              "Sequential(\n",
              "  (0): Linear(in_features=1, out_features=1, bias=True)\n",
              ")"
            ]
          },
          "metadata": {},
          "execution_count": 14
        }
      ]
    },
    {
      "cell_type": "markdown",
      "source": [
        "### Setting the parameters"
      ],
      "metadata": {
        "id": "TMvYyhMp8k4e"
      }
    },
    {
      "cell_type": "code",
      "source": [
        "learningRate=0.001\n",
        "lossfunc=nn.MSELoss()\n",
        "optimizer=torch.optim.SGD(model.parameters(),lr=learningRate)"
      ],
      "metadata": {
        "id": "nySIVxpq5vy2"
      },
      "execution_count": null,
      "outputs": []
    },
    {
      "cell_type": "markdown",
      "source": [
        "### Training the Neural Network"
      ],
      "metadata": {
        "id": "KHll-5OKAQKB"
      }
    },
    {
      "cell_type": "code",
      "source": [
        "epochs=5001 # number of times we pass the data to the neural network\n",
        "losses=torch.zeros(epochs)\n",
        "for epoch in range(epochs):\n",
        "  ypred=model(X)\n",
        "  loss=lossfunc(ypred,y)\n",
        "  losses[epoch]=loss\n",
        "  # Back propagation\n",
        "  optimizer.zero_grad()\n",
        "  # The purpose of optimizer.zero_grad() is to clear the gradients from the previous step.\n",
        "  # By default, in PyTorch, gradients are accumulated across multiple backward passes.\n",
        "  # This means that if you don't clear the gradients before each backward pass, they will be\n",
        "  # added to the previous ones, which can lead to incorrect updates and make training unstable.\n",
        "  loss.backward() # Calculate Gradient of all Parameters\n",
        "  optimizer.step() # used to update the parameter so that error could be reduced.\n",
        "  if (epoch % 100)==0:\n",
        "    print(f'epochs:{epoch} loss : {loss.item(): 1.2f}')"
      ],
      "metadata": {
        "colab": {
          "base_uri": "https://localhost:8080/"
        },
        "id": "UR8gkmdN5vt-",
        "outputId": "e8d91b2e-a81d-4ce3-927e-a777d3774c75"
      },
      "execution_count": null,
      "outputs": [
        {
          "output_type": "stream",
          "name": "stdout",
          "text": [
            "epochs:0 loss :  6503336448.00\n",
            "epochs:100 loss :  144396224.00\n",
            "epochs:200 loss :  135215264.00\n",
            "epochs:300 loss :  126780704.00\n",
            "epochs:400 loss :  119030560.00\n",
            "epochs:500 loss :  111909264.00\n",
            "epochs:600 loss :  105365872.00\n",
            "epochs:700 loss :  99353400.00\n",
            "epochs:800 loss :  93828848.00\n",
            "epochs:900 loss :  88752544.00\n",
            "epochs:1000 loss :  84088184.00\n",
            "epochs:1100 loss :  79802296.00\n",
            "epochs:1200 loss :  75864224.00\n",
            "epochs:1300 loss :  72245664.00\n",
            "epochs:1400 loss :  68920784.00\n",
            "epochs:1500 loss :  65865672.00\n",
            "epochs:1600 loss :  63058460.00\n",
            "epochs:1700 loss :  60479056.00\n",
            "epochs:1800 loss :  58108956.00\n",
            "epochs:1900 loss :  55931140.00\n",
            "epochs:2000 loss :  53930084.00\n",
            "epochs:2100 loss :  52091400.00\n",
            "epochs:2200 loss :  50401924.00\n",
            "epochs:2300 loss :  48849536.00\n",
            "epochs:2400 loss :  47423116.00\n",
            "epochs:2500 loss :  46112448.00\n",
            "epochs:2600 loss :  44908120.00\n",
            "epochs:2700 loss :  43801520.00\n",
            "epochs:2800 loss :  42784748.00\n",
            "epochs:2900 loss :  41850456.00\n",
            "epochs:3000 loss :  40991976.00\n",
            "epochs:3100 loss :  40203164.00\n",
            "epochs:3200 loss :  39478360.00\n",
            "epochs:3300 loss :  38812380.00\n",
            "epochs:3400 loss :  38200428.00\n",
            "epochs:3500 loss :  37638136.00\n",
            "epochs:3600 loss :  37121436.00\n",
            "epochs:3700 loss :  36646708.00\n",
            "epochs:3800 loss :  36210492.00\n",
            "epochs:3900 loss :  35809664.00\n",
            "epochs:4000 loss :  35441364.00\n",
            "epochs:4100 loss :  35102960.00\n",
            "epochs:4200 loss :  34792012.00\n",
            "epochs:4300 loss :  34506300.00\n",
            "epochs:4400 loss :  34243756.00\n",
            "epochs:4500 loss :  34002544.00\n",
            "epochs:4600 loss :  33780900.00\n",
            "epochs:4700 loss :  33577224.00\n",
            "epochs:4800 loss :  33390086.00\n",
            "epochs:4900 loss :  33218142.00\n",
            "epochs:5000 loss :  33060130.00\n"
          ]
        }
      ]
    },
    {
      "cell_type": "code",
      "source": [
        "ypred"
      ],
      "metadata": {
        "colab": {
          "base_uri": "https://localhost:8080/"
        },
        "id": "BjWI8dgQ6gUW",
        "outputId": "b258ad51-3695-4112-8129-21528cf83ec1"
      },
      "execution_count": null,
      "outputs": [
        {
          "output_type": "execute_result",
          "data": {
            "text/plain": [
              "tensor([[ 33779.9141],\n",
              "        [ 35755.2891],\n",
              "        [ 37730.6641],\n",
              "        [ 42669.1016],\n",
              "        [ 44644.4766],\n",
              "        [ 51558.2930],\n",
              "        [ 52545.9805],\n",
              "        [ 54521.3555],\n",
              "        [ 54521.3555],\n",
              "        [ 59459.7930],\n",
              "        [ 61435.1680],\n",
              "        [ 62422.8555],\n",
              "        [ 62422.8555],\n",
              "        [ 63410.5430],\n",
              "        [ 67361.2969],\n",
              "        [ 71312.0469],\n",
              "        [ 73287.4219],\n",
              "        [ 75262.7969],\n",
              "        [ 81188.9219],\n",
              "        [ 82176.6094],\n",
              "        [ 90078.1094],\n",
              "        [ 93041.1719],\n",
              "        [100942.6719],\n",
              "        [103905.7344],\n",
              "        [108844.1719],\n",
              "        [111807.2344],\n",
              "        [116745.6719],\n",
              "        [117733.3672],\n",
              "        [124647.1797],\n",
              "        [126622.5469]], grad_fn=<AddmmBackward0>)"
            ]
          },
          "metadata": {},
          "execution_count": 18
        }
      ]
    },
    {
      "cell_type": "code",
      "source": [
        "ypred.detach()"
      ],
      "metadata": {
        "colab": {
          "base_uri": "https://localhost:8080/"
        },
        "id": "FiG5ZPsO6gR9",
        "outputId": "50c69292-0b05-4386-8984-c532dbcee65e"
      },
      "execution_count": null,
      "outputs": [
        {
          "output_type": "execute_result",
          "data": {
            "text/plain": [
              "tensor([[ 33779.9141],\n",
              "        [ 35755.2891],\n",
              "        [ 37730.6641],\n",
              "        [ 42669.1016],\n",
              "        [ 44644.4766],\n",
              "        [ 51558.2930],\n",
              "        [ 52545.9805],\n",
              "        [ 54521.3555],\n",
              "        [ 54521.3555],\n",
              "        [ 59459.7930],\n",
              "        [ 61435.1680],\n",
              "        [ 62422.8555],\n",
              "        [ 62422.8555],\n",
              "        [ 63410.5430],\n",
              "        [ 67361.2969],\n",
              "        [ 71312.0469],\n",
              "        [ 73287.4219],\n",
              "        [ 75262.7969],\n",
              "        [ 81188.9219],\n",
              "        [ 82176.6094],\n",
              "        [ 90078.1094],\n",
              "        [ 93041.1719],\n",
              "        [100942.6719],\n",
              "        [103905.7344],\n",
              "        [108844.1719],\n",
              "        [111807.2344],\n",
              "        [116745.6719],\n",
              "        [117733.3672],\n",
              "        [124647.1797],\n",
              "        [126622.5469]])"
            ]
          },
          "metadata": {},
          "execution_count": 26
        }
      ]
    },
    {
      "cell_type": "markdown",
      "source": [
        "### Plot loss vs epoch"
      ],
      "metadata": {
        "id": "diva8DSBO6hE"
      }
    },
    {
      "cell_type": "code",
      "source": [
        "plt.figure(figsize=(8,5))\n",
        "plt.plot(np.arange(epochs),losses.detach())\n",
        "plt.xlabel('Epochs')\n",
        "plt.ylabel('Loss')\n",
        "plt.show()"
      ],
      "metadata": {
        "colab": {
          "base_uri": "https://localhost:8080/",
          "height": 500
        },
        "id": "kRWx3KK36gPO",
        "outputId": "240576bf-0b74-4631-e31c-98ca6c46a04d"
      },
      "execution_count": null,
      "outputs": [
        {
          "output_type": "display_data",
          "data": {
            "text/plain": [
              "<Figure size 800x500 with 1 Axes>"
            ],
            "image/png": "[encoded data removed]"
          },
          "metadata": {}
        }
      ]
    },
    {
      "cell_type": "markdown",
      "source": [
        "### Weight and bias of Trained Model"
      ],
      "metadata": {
        "id": "1kYxutI4P0S0"
      }
    },
    {
      "cell_type": "code",
      "source": [
        "model[0].weight.detach().numpy()"
      ],
      "metadata": {
        "colab": {
          "base_uri": "https://localhost:8080/"
        },
        "id": "6oE05zUJ6gMf",
        "outputId": "dbf86c5b-8a51-40d8-d097-a94cdef5a371"
      },
      "execution_count": null,
      "outputs": [
        {
          "output_type": "execute_result",
          "data": {
            "text/plain": [
              "array([[9876.695]], dtype=float32)"
            ]
          },
          "metadata": {},
          "execution_count": 40
        }
      ]
    },
    {
      "cell_type": "code",
      "source": [
        "model[0].bias.detach().numpy()"
      ],
      "metadata": {
        "colab": {
          "base_uri": "https://localhost:8080/"
        },
        "id": "4WQ5wjg_6gJ2",
        "outputId": "beefefb9-33e4-4c86-f8b1-2e6bb5b4a73b"
      },
      "execution_count": null,
      "outputs": [
        {
          "output_type": "execute_result",
          "data": {
            "text/plain": [
              "array([22916.568], dtype=float32)"
            ]
          },
          "metadata": {},
          "execution_count": 39
        }
      ]
    },
    {
      "cell_type": "markdown",
      "source": [
        "### Creating a test data"
      ],
      "metadata": {
        "id": "mpdPTxURQlql"
      }
    },
    {
      "cell_type": "code",
      "source": [
        "test_data=np.linspace(0,11,30).reshape(-1,1)\n",
        "test_data"
      ],
      "metadata": {
        "colab": {
          "base_uri": "https://localhost:8080/"
        },
        "id": "_oHZ8e0P6gGu",
        "outputId": "4f042763-be96-4edc-a592-83bb4aff8fcf"
      },
      "execution_count": null,
      "outputs": [
        {
          "output_type": "execute_result",
          "data": {
            "text/plain": [
              "array([[ 0.        ],\n",
              "       [ 0.37931034],\n",
              "       [ 0.75862069],\n",
              "       [ 1.13793103],\n",
              "       [ 1.51724138],\n",
              "       [ 1.89655172],\n",
              "       [ 2.27586207],\n",
              "       [ 2.65517241],\n",
              "       [ 3.03448276],\n",
              "       [ 3.4137931 ],\n",
              "       [ 3.79310345],\n",
              "       [ 4.17241379],\n",
              "       [ 4.55172414],\n",
              "       [ 4.93103448],\n",
              "       [ 5.31034483],\n",
              "       [ 5.68965517],\n",
              "       [ 6.06896552],\n",
              "       [ 6.44827586],\n",
              "       [ 6.82758621],\n",
              "       [ 7.20689655],\n",
              "       [ 7.5862069 ],\n",
              "       [ 7.96551724],\n",
              "       [ 8.34482759],\n",
              "       [ 8.72413793],\n",
              "       [ 9.10344828],\n",
              "       [ 9.48275862],\n",
              "       [ 9.86206897],\n",
              "       [10.24137931],\n",
              "       [10.62068966],\n",
              "       [11.        ]])"
            ]
          },
          "metadata": {},
          "execution_count": 50
        }
      ]
    },
    {
      "cell_type": "code",
      "source": [
        "X_test=torch.tensor(test_data,dtype=torch.float32)\n",
        "X_test"
      ],
      "metadata": {
        "colab": {
          "base_uri": "https://localhost:8080/"
        },
        "id": "dwkH-c9f6gEI",
        "outputId": "43684eaa-fe97-433b-ecd5-c6a805c251b8"
      },
      "execution_count": null,
      "outputs": [
        {
          "output_type": "execute_result",
          "data": {
            "text/plain": [
              "tensor([[ 0.0000],\n",
              "        [ 0.3793],\n",
              "        [ 0.7586],\n",
              "        [ 1.1379],\n",
              "        [ 1.5172],\n",
              "        [ 1.8966],\n",
              "        [ 2.2759],\n",
              "        [ 2.6552],\n",
              "        [ 3.0345],\n",
              "        [ 3.4138],\n",
              "        [ 3.7931],\n",
              "        [ 4.1724],\n",
              "        [ 4.5517],\n",
              "        [ 4.9310],\n",
              "        [ 5.3103],\n",
              "        [ 5.6897],\n",
              "        [ 6.0690],\n",
              "        [ 6.4483],\n",
              "        [ 6.8276],\n",
              "        [ 7.2069],\n",
              "        [ 7.5862],\n",
              "        [ 7.9655],\n",
              "        [ 8.3448],\n",
              "        [ 8.7241],\n",
              "        [ 9.1034],\n",
              "        [ 9.4828],\n",
              "        [ 9.8621],\n",
              "        [10.2414],\n",
              "        [10.6207],\n",
              "        [11.0000]])"
            ]
          },
          "metadata": {},
          "execution_count": 51
        }
      ]
    },
    {
      "cell_type": "code",
      "source": [
        "yt=model(X_test)\n",
        "yt"
      ],
      "metadata": {
        "colab": {
          "base_uri": "https://localhost:8080/"
        },
        "id": "qgEAWFTn6gBd",
        "outputId": "f048aef4-2df6-4748-bcc8-49f52ec424fe"
      },
      "execution_count": null,
      "outputs": [
        {
          "output_type": "execute_result",
          "data": {
            "text/plain": [
              "tensor([[ 22916.5684],\n",
              "        [ 26662.9004],\n",
              "        [ 30409.2344],\n",
              "        [ 34155.5664],\n",
              "        [ 37901.8984],\n",
              "        [ 41648.2344],\n",
              "        [ 45394.5625],\n",
              "        [ 49140.8984],\n",
              "        [ 52887.2305],\n",
              "        [ 56633.5625],\n",
              "        [ 60379.8984],\n",
              "        [ 64126.2266],\n",
              "        [ 67872.5625],\n",
              "        [ 71618.8906],\n",
              "        [ 75365.2266],\n",
              "        [ 79111.5625],\n",
              "        [ 82857.8906],\n",
              "        [ 86604.2266],\n",
              "        [ 90350.5625],\n",
              "        [ 94096.8906],\n",
              "        [ 97843.2266],\n",
              "        [101589.5547],\n",
              "        [105335.8906],\n",
              "        [109082.2266],\n",
              "        [112828.5547],\n",
              "        [116574.8906],\n",
              "        [120321.2188],\n",
              "        [124067.5547],\n",
              "        [127813.8828],\n",
              "        [131560.2188]], grad_fn=<AddmmBackward0>)"
            ]
          },
          "metadata": {},
          "execution_count": 52
        }
      ]
    },
    {
      "cell_type": "code",
      "source": [
        "plt.figure(figsize=(8,5))\n",
        "plt.scatter(X,y,label='Actual Data')\n",
        "plt.plot(test_data,yt.detach(),color='red',label='predicted data')\n",
        "plt.legend()\n",
        "plt.show()"
      ],
      "metadata": {
        "colab": {
          "base_uri": "https://localhost:8080/",
          "height": 465
        },
        "id": "Ptk7ImtJ6f5d",
        "outputId": "260c3295-e3b4-4541-f1ab-eadfe51618f7"
      },
      "execution_count": null,
      "outputs": [
        {
          "output_type": "display_data",
          "data": {
            "text/plain": [
              "<Figure size 800x500 with 1 Axes>"
            ],
            "image/png": "[encoded data removed]"
          },
          "metadata": {}
        }
      ]
    },
    {
      "cell_type": "markdown",
      "source": [
        "### Check the performance of the model"
      ],
      "metadata": {
        "id": "Gk63uZTOSjS3"
      }
    },
    {
      "cell_type": "code",
      "source": [
        "from sklearn import metrics\n",
        "import numpy as np\n",
        "\n",
        "# Assuming y and yt are your true and predicted values, and are on the GPU\n",
        "# Move them to the CPU and convert to NumPy arrays\n",
        "y_cpu = y.cpu().numpy()\n",
        "yt_cpu = yt.cpu().detach().numpy()\n",
        "\n",
        "# Calculate RMSE, MAE, and R2\n",
        "print(\"RMSE\", np.sqrt(metrics.mean_squared_error(y_cpu, yt_cpu)))\n",
        "print(\"MAE\", metrics.mean_absolute_error(y_cpu, yt_cpu))\n",
        "print(\"R2\", metrics.r2_score(y_cpu, yt_cpu))\n"
      ],
      "metadata": {
        "colab": {
          "base_uri": "https://localhost:8080/"
        },
        "id": "TJZ4LTY3Si8e",
        "outputId": "a8efe381-61a7-4e25-dab9-5c498e7b446d"
      },
      "execution_count": null,
      "outputs": [
        {
          "output_type": "stream",
          "name": "stdout",
          "text": [
            "RMSE 9997.556101367974\n",
            "MAE 8527.6083984375\n",
            "R2 0.8624208569526672\n"
          ]
        }
      ]
    },
    {
      "cell_type": "code",
      "source": [],
      "metadata": {
        "id": "IlLCNADmSi3x"
      },
      "execution_count": null,
      "outputs": []
    },
    {
      "cell_type": "code",
      "source": [],
      "metadata": {
        "id": "nKe7oDG6Si1T"
      },
      "execution_count": null,
      "outputs": []
    },
    {
      "cell_type": "code",
      "source": [],
      "metadata": {
        "id": "6JNC4aZmSiy1"
      },
      "execution_count": null,
      "outputs": []
    },
    {
      "cell_type": "code",
      "source": [],
      "metadata": {
        "id": "kAjf60vmSiwb"
      },
      "execution_count": null,
      "outputs": []
    },
    {
      "cell_type": "code",
      "source": [],
      "metadata": {
        "id": "Wu9Y33AtSit8"
      },
      "execution_count": null,
      "outputs": []
    },
    {
      "cell_type": "code",
      "source": [],
      "metadata": {
        "id": "ys1lMET3SisF"
      },
      "execution_count": null,
      "outputs": []
    },
    {
      "cell_type": "code",
      "source": [],
      "metadata": {
        "id": "obDIOBNgSioc"
      },
      "execution_count": null,
      "outputs": []
    },
    {
      "cell_type": "code",
      "source": [],
      "metadata": {
        "id": "phKGHCk26f1S"
      },
      "execution_count": null,
      "outputs": []
    },
    {
      "cell_type": "code",
      "source": [],
      "metadata": {
        "id": "KE59v-tF6fvR"
      },
      "execution_count": null,
      "outputs": []
    }
  ]
}